{
 "cells": [
  {
   "cell_type": "markdown",
   "metadata": {},
   "source": [
    "**Null space with Python**\n",
    "\n",
    "Computing null space with the in-built sympy method fails for some cases.\n",
    "\n",
    "An example is shown below, where the computation with sympy does not work.\n",
    "\n",
    "The same matrix is then reduced using a special function (created with help from Scipy Cookbook) to achieve the intended result."
   ]
  },
  {
   "cell_type": "code",
   "execution_count": 1,
   "metadata": {},
   "outputs": [],
   "source": [
    "# import libraries for computation\n",
    "import numpy as np\n",
    "np.set_printoptions(suppress=True)\n",
    "from numpy.linalg import svd\n",
    "from sympy import Matrix"
   ]
  },
  {
   "cell_type": "code",
   "execution_count": 2,
   "metadata": {},
   "outputs": [
    {
     "name": "stdout",
     "output_type": "stream",
     "text": [
      "B =\n"
     ]
    },
    {
     "data": {
      "text/latex": [
       "$\\displaystyle \\left[\\begin{matrix}-0.8 & 0.17 & 0.25 & 0.2 & 0.1\\\\0.25 & -0.8 & 0.1 & 0.3 & 0.0\\\\0.05 & 0.2 & -0.9 & 0.15 & 0.1\\\\0.1 & 0.28 & 0.4 & -0.8 & 0.0\\\\0.4 & 0.15 & 0.15 & 0.15 & -0.2\\end{matrix}\\right]$"
      ],
      "text/plain": [
       "Matrix([\n",
       "[-0.8, 0.17, 0.25,  0.2,  0.1],\n",
       "[0.25, -0.8,  0.1,  0.3,  0.0],\n",
       "[0.05,  0.2, -0.9, 0.15,  0.1],\n",
       "[ 0.1, 0.28,  0.4, -0.8,  0.0],\n",
       "[ 0.4, 0.15, 0.15, 0.15, -0.2]])"
      ]
     },
     "execution_count": 2,
     "metadata": {},
     "output_type": "execute_result"
    }
   ],
   "source": [
    "B = np.array([\n",
    "     [-.8, .17, .25, .2, .1],\n",
    "     [.25, -.8, .1, .3, 0],\n",
    "     [.05, .2, -.9, .15, .1],\n",
    "     [.1, .28, .4, -.8, 0],\n",
    "     [.4, .15, .15, .15, -.2]])\n",
    "\n",
    "print(\"B =\")\n",
    "Matrix(B)"
   ]
  },
  {
   "cell_type": "markdown",
   "metadata": {},
   "source": [
    "\\\n",
    "\\\n",
    "The following is an attempt with Sympy, which fails."
   ]
  },
  {
   "cell_type": "code",
   "execution_count": 3,
   "metadata": {},
   "outputs": [
    {
     "data": {
      "text/plain": [
       "[]"
      ]
     },
     "execution_count": 3,
     "metadata": {},
     "output_type": "execute_result"
    }
   ],
   "source": [
    "Matrix(B).nullspace()"
   ]
  },
  {
   "cell_type": "markdown",
   "metadata": {},
   "source": [
    "The sympy method above gives an empty set. The matrix B, actually has a nullspace as we would find below."
   ]
  },
  {
   "cell_type": "markdown",
   "metadata": {},
   "source": [
    "\\\n",
    "\\\n",
    "The following function finds nullspace of a matrix, using singular value decomposition (SVD)."
   ]
  },
  {
   "cell_type": "code",
   "execution_count": 4,
   "metadata": {},
   "outputs": [],
   "source": [
    "def get_nullspace(my_matrix):\n",
    "    \"\"\"\n",
    "    This returns the nullspace of a given matrix\n",
    "    \"\"\"\n",
    "    u, s, vh = svd(my_matrix)\n",
    "    absolute_tolerance, relative_tolerance = 1e-13, 0\n",
    "    tolerance = max(absolute_tolerance, relative_tolerance * s[0])\n",
    "    value_count = (s >= tolerance).sum()\n",
    "    nullspace = vh[value_count:].conj().T\n",
    "    return nullspace"
   ]
  },
  {
   "cell_type": "markdown",
   "metadata": {},
   "source": [
    "Now, we compute the nullspace using the function defined above."
   ]
  },
  {
   "cell_type": "code",
   "execution_count": 5,
   "metadata": {},
   "outputs": [
    {
     "name": "stdout",
     "output_type": "stream",
     "text": [
      "Basis for nullspace:\n"
     ]
    },
    {
     "data": {
      "text/latex": [
       "$\\displaystyle \\left[\\begin{matrix}0.278345665283777\\\\0.187759291732603\\\\0.201873315940293\\\\0.20144561823703\\\\1.0\\end{matrix}\\right]$"
      ],
      "text/plain": [
       "Matrix([\n",
       "[0.278345665283777],\n",
       "[0.187759291732603],\n",
       "[0.201873315940293],\n",
       "[ 0.20144561823703],\n",
       "[              1.0]])"
      ]
     },
     "execution_count": 5,
     "metadata": {},
     "output_type": "execute_result"
    }
   ],
   "source": [
    "nullspace = get_nullspace(B)\n",
    "nullspace = nullspace/nullspace[-1] # scaling\n",
    "print(\"Basis for nullspace:\")\n",
    "Matrix(nullspace)"
   ]
  }
 ],
 "metadata": {
  "kernelspec": {
   "display_name": "Python 3.8.5 ('datascience')",
   "language": "python",
   "name": "python3"
  },
  "language_info": {
   "codemirror_mode": {
    "name": "ipython",
    "version": 3
   },
   "file_extension": ".py",
   "mimetype": "text/x-python",
   "name": "python",
   "nbconvert_exporter": "python",
   "pygments_lexer": "ipython3",
   "version": "3.8.5"
  },
  "vscode": {
   "interpreter": {
    "hash": "d203a7fbe37afbb990fedfc21c321928443618f3d7b991e0237ff71906aa031f"
   }
  }
 },
 "nbformat": 4,
 "nbformat_minor": 4
}

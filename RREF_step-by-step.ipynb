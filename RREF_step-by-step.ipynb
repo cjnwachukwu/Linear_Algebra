{
 "cells": [
  {
   "cell_type": "markdown",
   "metadata": {},
   "source": [
    "**Step-by-Step reduction to RREF**\n",
    "\n",
    "The reduction of an augmented matrix `[B|0]` to RREF is performed step by step below."
   ]
  },
  {
   "cell_type": "code",
   "execution_count": 1,
   "metadata": {},
   "outputs": [],
   "source": [
    "# import libraries for computation\n",
    "import numpy as np\n",
    "np.set_printoptions(suppress=True)\n",
    "from sympy import Matrix"
   ]
  },
  {
   "cell_type": "markdown",
   "metadata": {},
   "source": [
    "\\\n",
    "\\\n",
    "The following functions would help perform matrix reduction (RREF)."
   ]
  },
  {
   "cell_type": "code",
   "execution_count": 2,
   "metadata": {},
   "outputs": [],
   "source": [
    "# Function for row reduction:\n",
    "def reduce_row(matrix, row, pivot_index):\n",
    "    \"\"\"\n",
    "    This performs a step-by-step row-reduction process.\n",
    "    The inputs include:\n",
    "        matrix: numpy array or list, or variable name\n",
    "        row: number of matrix row to replace\n",
    "        pivot_index: tuple (row, column) of pivot position\n",
    "    \"\"\"\n",
    "    \n",
    "    # ensure matrix is numpy array\n",
    "    matrix = np.array(matrix)\n",
    "\n",
    "    # convert to python indexing\n",
    "    row = row-1\n",
    "    pivot_index = (pivot_index[0]-1, pivot_index[1]-1)\n",
    "\n",
    "    # define rows\n",
    "    item_row = matrix[row]\n",
    "    pivot_row = matrix[pivot_index[0]]\n",
    "\n",
    "    #get multiplier\n",
    "    item_position = pivot_index[1]\n",
    "    p_position = pivot_index[1]\n",
    "    multiplier = item_row[item_position]/pivot_row[p_position]\n",
    "\n",
    "    #reduce matrix\n",
    "    matrix[[row]] = matrix[[row]] - multiplier * matrix[[pivot_index[0]]]\n",
    "    \n",
    "    print(f\"R{row+1} = R{row+1} - ({multiplier:.4f}*R{pivot_index[0]+1}):\")\n",
    "    return matrix\n",
    "\n",
    "# Function for dividing row by specific value:\n",
    "def divide_row(matrix, row, divisor):\n",
    "    \"\"\"\n",
    "    This divides a matrix row by a given value\n",
    "    and replaces the row in the matrix returned.\n",
    "    The inputs include:\n",
    "        matrix: numpy array or list, or variable name\n",
    "        row: number of matrix row to replace\n",
    "        divisor: value to divide row by\n",
    "    \"\"\"\n",
    "\n",
    "    # ensure matrix is numpy array\n",
    "    matrix = np.array(matrix)\n",
    "\n",
    "    # convert to python indexing\n",
    "    row = row-1\n",
    "    \n",
    "    # perform division\n",
    "    matrix[[row]] = matrix[[row]] / divisor\n",
    "\n",
    "    print(f\"R{row+1} = R{row+1}/{divisor}:\")\n",
    "    return matrix\n",
    "\n",
    "# Function for dividing row by value of specific index:\n",
    "def divide_index(matrix, row_index):\n",
    "    \"\"\"\n",
    "    This divides a matrix row by the value\n",
    "    of a specific index on the same row\n",
    "    and replaces the row in the matrix returned.\n",
    "    The inputs include:\n",
    "        matrix: numpy array or list, or variable name\n",
    "        row_index: tuple (row, column) of position\n",
    "        divisor: value to divide row by\n",
    "    \"\"\"\n",
    "\n",
    "    # ensure matrix is numpy array\n",
    "    matrix = np.array(matrix)\n",
    "\n",
    "    # convert to python indexing\n",
    "    row_index = (row_index[0]-1, row_index[1]-1)\n",
    "\n",
    "    # perform division\n",
    "    row  = row_index[0]\n",
    "    divisor = matrix[row_index]\n",
    "    matrix[[row]] = matrix[[row]] / divisor\n",
    "\n",
    "    print(f\"R{row+1} = R{row+1}/{divisor:.4f}:\")\n",
    "    return matrix\n",
    "\n",
    "# Function for swapping rows:\n",
    "def swap_rows(matrix, row_1, row_2):\n",
    "    \"\"\"\n",
    "    This swaps two rows of a given matrix\n",
    "    \"\"\"\n",
    "    \n",
    "    # ensure matrix is numpy array\n",
    "    matrix = np.array(matrix)\n",
    "    \n",
    "    # convert to python indexing\n",
    "    row_1, row_2 = row_1 - 1, row_2 - 1\n",
    "    \n",
    "    matrix[[row_1,row_2]] = matrix[[row_2,row_1]]\n",
    "    \n",
    "    print(f\"Swap R{row_1+1} and R{row_2+1}:\")\n",
    "    return matrix"
   ]
  },
  {
   "cell_type": "code",
   "execution_count": 3,
   "metadata": {},
   "outputs": [
    {
     "name": "stdout",
     "output_type": "stream",
     "text": [
      "B =\n"
     ]
    },
    {
     "data": {
      "text/latex": [
       "$\\displaystyle \\left[\\begin{matrix}-0.8 & 0.17 & 0.25 & 0.2 & 0.1\\\\0.25 & -0.8 & 0.1 & 0.3 & 0.0\\\\0.05 & 0.2 & -0.9 & 0.15 & 0.1\\\\0.1 & 0.28 & 0.4 & -0.8 & 0.0\\\\0.4 & 0.15 & 0.15 & 0.15 & -0.2\\end{matrix}\\right]$"
      ],
      "text/plain": [
       "Matrix([\n",
       "[-0.8, 0.17, 0.25,  0.2,  0.1],\n",
       "[0.25, -0.8,  0.1,  0.3,  0.0],\n",
       "[0.05,  0.2, -0.9, 0.15,  0.1],\n",
       "[ 0.1, 0.28,  0.4, -0.8,  0.0],\n",
       "[ 0.4, 0.15, 0.15, 0.15, -0.2]])"
      ]
     },
     "execution_count": 3,
     "metadata": {},
     "output_type": "execute_result"
    }
   ],
   "source": [
    "B = np.array([\n",
    "     [-.8, .17, .25, .2, .1],\n",
    "     [.25, -.8, .1, .3, 0],\n",
    "     [.05, .2, -.9, .15, .1],\n",
    "     [.1, .28, .4, -.8, 0],\n",
    "     [.4, .15, .15, .15, -.2]])\n",
    "\n",
    "print(\"B =\")\n",
    "Matrix(B)"
   ]
  },
  {
   "cell_type": "code",
   "execution_count": 4,
   "metadata": {},
   "outputs": [
    {
     "name": "stdout",
     "output_type": "stream",
     "text": [
      "Augmented Matrix:\n"
     ]
    },
    {
     "data": {
      "text/latex": [
       "$\\displaystyle \\left[\\begin{matrix}-0.8 & 0.17 & 0.25 & 0.2 & 0.1 & 0.0\\\\0.25 & -0.8 & 0.1 & 0.3 & 0.0 & 0.0\\\\0.05 & 0.2 & -0.9 & 0.15 & 0.1 & 0.0\\\\0.1 & 0.28 & 0.4 & -0.8 & 0.0 & 0.0\\\\0.4 & 0.15 & 0.15 & 0.15 & -0.2 & 0.0\\end{matrix}\\right]$"
      ],
      "text/plain": [
       "Matrix([\n",
       "[-0.8, 0.17, 0.25,  0.2,  0.1, 0.0],\n",
       "[0.25, -0.8,  0.1,  0.3,  0.0, 0.0],\n",
       "[0.05,  0.2, -0.9, 0.15,  0.1, 0.0],\n",
       "[ 0.1, 0.28,  0.4, -0.8,  0.0, 0.0],\n",
       "[ 0.4, 0.15, 0.15, 0.15, -0.2, 0.0]])"
      ]
     },
     "execution_count": 4,
     "metadata": {},
     "output_type": "execute_result"
    }
   ],
   "source": [
    "B_augmented = np.insert(B,B.shape[1],0,axis=1)\n",
    "print(\"Augmented Matrix:\")\n",
    "Matrix(B_augmented)"
   ]
  },
  {
   "cell_type": "code",
   "execution_count": 5,
   "metadata": {},
   "outputs": [
    {
     "name": "stdout",
     "output_type": "stream",
     "text": [
      "Augmented Matrix:\n"
     ]
    },
    {
     "data": {
      "text/latex": [
       "$\\displaystyle \\left[\\begin{matrix}-0.8 & 0.17 & 0.25 & 0.2 & 0.1 & 0.0\\\\0.25 & -0.8 & 0.1 & 0.3 & 0.0 & 0.0\\\\0.05 & 0.2 & -0.9 & 0.15 & 0.1 & 0.0\\\\0.1 & 0.28 & 0.4 & -0.8 & 0.0 & 0.0\\\\0.4 & 0.15 & 0.15 & 0.15 & -0.2 & 0.0\\end{matrix}\\right]$"
      ],
      "text/plain": [
       "Matrix([\n",
       "[-0.8, 0.17, 0.25,  0.2,  0.1, 0.0],\n",
       "[0.25, -0.8,  0.1,  0.3,  0.0, 0.0],\n",
       "[0.05,  0.2, -0.9, 0.15,  0.1, 0.0],\n",
       "[ 0.1, 0.28,  0.4, -0.8,  0.0, 0.0],\n",
       "[ 0.4, 0.15, 0.15, 0.15, -0.2, 0.0]])"
      ]
     },
     "execution_count": 5,
     "metadata": {},
     "output_type": "execute_result"
    }
   ],
   "source": [
    "print(\"Augmented Matrix:\")\n",
    "Matrix(B_augmented)"
   ]
  },
  {
   "cell_type": "markdown",
   "metadata": {},
   "source": [
    "\\\n",
    "\\\n",
    "Perform row-reduction of augmented matrix in steps"
   ]
  },
  {
   "cell_type": "code",
   "execution_count": 6,
   "metadata": {},
   "outputs": [
    {
     "name": "stdout",
     "output_type": "stream",
     "text": [
      "R1 = R1/-0.8000:\n"
     ]
    },
    {
     "data": {
      "text/latex": [
       "$\\displaystyle \\left[\\begin{matrix}1.0 & -0.2125 & -0.3125 & -0.25 & -0.125 & 0.0\\\\0.25 & -0.8 & 0.1 & 0.3 & 0.0 & 0.0\\\\0.05 & 0.2 & -0.9 & 0.15 & 0.1 & 0.0\\\\0.1 & 0.28 & 0.4 & -0.8 & 0.0 & 0.0\\\\0.4 & 0.15 & 0.15 & 0.15 & -0.2 & 0.0\\end{matrix}\\right]$"
      ],
      "text/plain": [
       "Matrix([\n",
       "[ 1.0, -0.2125, -0.3125, -0.25, -0.125, 0.0],\n",
       "[0.25,    -0.8,     0.1,   0.3,    0.0, 0.0],\n",
       "[0.05,     0.2,    -0.9,  0.15,    0.1, 0.0],\n",
       "[ 0.1,    0.28,     0.4,  -0.8,    0.0, 0.0],\n",
       "[ 0.4,    0.15,    0.15,  0.15,   -0.2, 0.0]])"
      ]
     },
     "execution_count": 6,
     "metadata": {},
     "output_type": "execute_result"
    }
   ],
   "source": [
    "B_ = divide_index(B_augmented,(1,1))\n",
    "Matrix(B_)"
   ]
  },
  {
   "cell_type": "code",
   "execution_count": 7,
   "metadata": {},
   "outputs": [
    {
     "name": "stdout",
     "output_type": "stream",
     "text": [
      "R2 = R2 - (0.2500*R1):\n"
     ]
    },
    {
     "data": {
      "text/latex": [
       "$\\displaystyle \\left[\\begin{matrix}1.0 & -0.2125 & -0.3125 & -0.25 & -0.125 & 0.0\\\\0.0 & -0.746875 & 0.178125 & 0.3625 & 0.03125 & 0.0\\\\0.05 & 0.2 & -0.9 & 0.15 & 0.1 & 0.0\\\\0.1 & 0.28 & 0.4 & -0.8 & 0.0 & 0.0\\\\0.4 & 0.15 & 0.15 & 0.15 & -0.2 & 0.0\\end{matrix}\\right]$"
      ],
      "text/plain": [
       "Matrix([\n",
       "[ 1.0,   -0.2125,  -0.3125,  -0.25,  -0.125, 0.0],\n",
       "[ 0.0, -0.746875, 0.178125, 0.3625, 0.03125, 0.0],\n",
       "[0.05,       0.2,     -0.9,   0.15,     0.1, 0.0],\n",
       "[ 0.1,      0.28,      0.4,   -0.8,     0.0, 0.0],\n",
       "[ 0.4,      0.15,     0.15,   0.15,    -0.2, 0.0]])"
      ]
     },
     "execution_count": 7,
     "metadata": {},
     "output_type": "execute_result"
    }
   ],
   "source": [
    "B_ = reduce_row(B_,2,(1,1))\n",
    "Matrix(B_)"
   ]
  },
  {
   "cell_type": "code",
   "execution_count": 8,
   "metadata": {},
   "outputs": [
    {
     "name": "stdout",
     "output_type": "stream",
     "text": [
      "R3 = R3 - (0.0500*R1):\n"
     ]
    },
    {
     "data": {
      "text/latex": [
       "$\\displaystyle \\left[\\begin{matrix}1.0 & -0.2125 & -0.3125 & -0.25 & -0.125 & 0.0\\\\0.0 & -0.746875 & 0.178125 & 0.3625 & 0.03125 & 0.0\\\\0.0 & 0.210625 & -0.884375 & 0.1625 & 0.10625 & 0.0\\\\0.1 & 0.28 & 0.4 & -0.8 & 0.0 & 0.0\\\\0.4 & 0.15 & 0.15 & 0.15 & -0.2 & 0.0\\end{matrix}\\right]$"
      ],
      "text/plain": [
       "Matrix([\n",
       "[1.0,   -0.2125,   -0.3125,  -0.25,  -0.125, 0.0],\n",
       "[0.0, -0.746875,  0.178125, 0.3625, 0.03125, 0.0],\n",
       "[0.0,  0.210625, -0.884375, 0.1625, 0.10625, 0.0],\n",
       "[0.1,      0.28,       0.4,   -0.8,     0.0, 0.0],\n",
       "[0.4,      0.15,      0.15,   0.15,    -0.2, 0.0]])"
      ]
     },
     "execution_count": 8,
     "metadata": {},
     "output_type": "execute_result"
    }
   ],
   "source": [
    "B_ = reduce_row(B_,3,(1,1))\n",
    "Matrix(B_)"
   ]
  },
  {
   "cell_type": "code",
   "execution_count": 9,
   "metadata": {},
   "outputs": [
    {
     "name": "stdout",
     "output_type": "stream",
     "text": [
      "R4 = R4 - (0.1000*R1):\n"
     ]
    },
    {
     "data": {
      "text/latex": [
       "$\\displaystyle \\left[\\begin{matrix}1.0 & -0.2125 & -0.3125 & -0.25 & -0.125 & 0.0\\\\0.0 & -0.746875 & 0.178125 & 0.3625 & 0.03125 & 0.0\\\\0.0 & 0.210625 & -0.884375 & 0.1625 & 0.10625 & 0.0\\\\0.0 & 0.30125 & 0.43125 & -0.775 & 0.0125 & 0.0\\\\0.4 & 0.15 & 0.15 & 0.15 & -0.2 & 0.0\\end{matrix}\\right]$"
      ],
      "text/plain": [
       "Matrix([\n",
       "[1.0,   -0.2125,   -0.3125,  -0.25,  -0.125, 0.0],\n",
       "[0.0, -0.746875,  0.178125, 0.3625, 0.03125, 0.0],\n",
       "[0.0,  0.210625, -0.884375, 0.1625, 0.10625, 0.0],\n",
       "[0.0,   0.30125,   0.43125, -0.775,  0.0125, 0.0],\n",
       "[0.4,      0.15,      0.15,   0.15,    -0.2, 0.0]])"
      ]
     },
     "execution_count": 9,
     "metadata": {},
     "output_type": "execute_result"
    }
   ],
   "source": [
    "B_ = reduce_row(B_,4,(1,1))\n",
    "Matrix(B_)"
   ]
  },
  {
   "cell_type": "code",
   "execution_count": 10,
   "metadata": {},
   "outputs": [
    {
     "name": "stdout",
     "output_type": "stream",
     "text": [
      "R5 = R5 - (0.4000*R1):\n"
     ]
    },
    {
     "data": {
      "text/latex": [
       "$\\displaystyle \\left[\\begin{matrix}1.0 & -0.2125 & -0.3125 & -0.25 & -0.125 & 0.0\\\\0.0 & -0.746875 & 0.178125 & 0.3625 & 0.03125 & 0.0\\\\0.0 & 0.210625 & -0.884375 & 0.1625 & 0.10625 & 0.0\\\\0.0 & 0.30125 & 0.43125 & -0.775 & 0.0125 & 0.0\\\\0.0 & 0.235 & 0.275 & 0.25 & -0.15 & 0.0\\end{matrix}\\right]$"
      ],
      "text/plain": [
       "Matrix([\n",
       "[1.0,   -0.2125,   -0.3125,  -0.25,  -0.125, 0.0],\n",
       "[0.0, -0.746875,  0.178125, 0.3625, 0.03125, 0.0],\n",
       "[0.0,  0.210625, -0.884375, 0.1625, 0.10625, 0.0],\n",
       "[0.0,   0.30125,   0.43125, -0.775,  0.0125, 0.0],\n",
       "[0.0,     0.235,     0.275,   0.25,   -0.15, 0.0]])"
      ]
     },
     "execution_count": 10,
     "metadata": {},
     "output_type": "execute_result"
    }
   ],
   "source": [
    "B_ = reduce_row(B_,5,(1,1))\n",
    "Matrix(B_)"
   ]
  },
  {
   "cell_type": "code",
   "execution_count": 11,
   "metadata": {},
   "outputs": [
    {
     "name": "stdout",
     "output_type": "stream",
     "text": [
      "R2 = R2/-0.7469:\n"
     ]
    },
    {
     "data": {
      "text/latex": [
       "$\\displaystyle \\left[\\begin{matrix}1.0 & -0.2125 & -0.3125 & -0.25 & -0.125 & 0.0\\\\0.0 & 1.0 & -0.238493723849372 & -0.485355648535565 & -0.0418410041841004 & 0.0\\\\0.0 & 0.210625 & -0.884375 & 0.1625 & 0.10625 & 0.0\\\\0.0 & 0.30125 & 0.43125 & -0.775 & 0.0125 & 0.0\\\\0.0 & 0.235 & 0.275 & 0.25 & -0.15 & 0.0\\end{matrix}\\right]$"
      ],
      "text/plain": [
       "Matrix([\n",
       "[1.0,  -0.2125,            -0.3125,              -0.25,              -0.125, 0.0],\n",
       "[0.0,      1.0, -0.238493723849372, -0.485355648535565, -0.0418410041841004, 0.0],\n",
       "[0.0, 0.210625,          -0.884375,             0.1625,             0.10625, 0.0],\n",
       "[0.0,  0.30125,            0.43125,             -0.775,              0.0125, 0.0],\n",
       "[0.0,    0.235,              0.275,               0.25,               -0.15, 0.0]])"
      ]
     },
     "execution_count": 11,
     "metadata": {},
     "output_type": "execute_result"
    }
   ],
   "source": [
    "B_ = divide_index(B_,(2,2))\n",
    "Matrix(B_)"
   ]
  },
  {
   "cell_type": "code",
   "execution_count": 12,
   "metadata": {},
   "outputs": [
    {
     "name": "stdout",
     "output_type": "stream",
     "text": [
      "R3 = R3 - (0.2106*R2):\n"
     ]
    },
    {
     "data": {
      "text/latex": [
       "$\\displaystyle \\left[\\begin{matrix}1.0 & -0.2125 & -0.3125 & -0.25 & -0.125 & 0.0\\\\0.0 & 1.0 & -0.238493723849372 & -0.485355648535565 & -0.0418410041841004 & 0.0\\\\0.0 & 0.0 & -0.834142259414226 & 0.264728033472803 & 0.115062761506276 & 0.0\\\\0.0 & 0.30125 & 0.43125 & -0.775 & 0.0125 & 0.0\\\\0.0 & 0.235 & 0.275 & 0.25 & -0.15 & 0.0\\end{matrix}\\right]$"
      ],
      "text/plain": [
       "Matrix([\n",
       "[1.0, -0.2125,            -0.3125,              -0.25,              -0.125, 0.0],\n",
       "[0.0,     1.0, -0.238493723849372, -0.485355648535565, -0.0418410041841004, 0.0],\n",
       "[0.0,     0.0, -0.834142259414226,  0.264728033472803,   0.115062761506276, 0.0],\n",
       "[0.0, 0.30125,            0.43125,             -0.775,              0.0125, 0.0],\n",
       "[0.0,   0.235,              0.275,               0.25,               -0.15, 0.0]])"
      ]
     },
     "execution_count": 12,
     "metadata": {},
     "output_type": "execute_result"
    }
   ],
   "source": [
    "B_ = reduce_row(B_,3,(2,2))\n",
    "Matrix(B_)"
   ]
  },
  {
   "cell_type": "code",
   "execution_count": 13,
   "metadata": {},
   "outputs": [
    {
     "name": "stdout",
     "output_type": "stream",
     "text": [
      "R4 = R4 - (0.3013*R2):\n"
     ]
    },
    {
     "data": {
      "text/latex": [
       "$\\displaystyle \\left[\\begin{matrix}1.0 & -0.2125 & -0.3125 & -0.25 & -0.125 & 0.0\\\\0.0 & 1.0 & -0.238493723849372 & -0.485355648535565 & -0.0418410041841004 & 0.0\\\\0.0 & 0.0 & -0.834142259414226 & 0.264728033472803 & 0.115062761506276 & 0.0\\\\0.0 & 0.0 & 0.503096234309623 & -0.628786610878661 & 0.0251046025104603 & 0.0\\\\0.0 & 0.235 & 0.275 & 0.25 & -0.15 & 0.0\\end{matrix}\\right]$"
      ],
      "text/plain": [
       "Matrix([\n",
       "[1.0, -0.2125,            -0.3125,              -0.25,              -0.125, 0.0],\n",
       "[0.0,     1.0, -0.238493723849372, -0.485355648535565, -0.0418410041841004, 0.0],\n",
       "[0.0,     0.0, -0.834142259414226,  0.264728033472803,   0.115062761506276, 0.0],\n",
       "[0.0,     0.0,  0.503096234309623, -0.628786610878661,  0.0251046025104603, 0.0],\n",
       "[0.0,   0.235,              0.275,               0.25,               -0.15, 0.0]])"
      ]
     },
     "execution_count": 13,
     "metadata": {},
     "output_type": "execute_result"
    }
   ],
   "source": [
    "B_ = reduce_row(B_,4,(2,2))\n",
    "Matrix(B_)"
   ]
  },
  {
   "cell_type": "code",
   "execution_count": 14,
   "metadata": {},
   "outputs": [
    {
     "name": "stdout",
     "output_type": "stream",
     "text": [
      "R5 = R5 - (0.2350*R2):\n"
     ]
    },
    {
     "data": {
      "text/latex": [
       "$\\displaystyle \\left[\\begin{matrix}1.0 & -0.2125 & -0.3125 & -0.25 & -0.125 & 0.0\\\\0.0 & 1.0 & -0.238493723849372 & -0.485355648535565 & -0.0418410041841004 & 0.0\\\\0.0 & 0.0 & -0.834142259414226 & 0.264728033472803 & 0.115062761506276 & 0.0\\\\0.0 & 0.0 & 0.503096234309623 & -0.628786610878661 & 0.0251046025104603 & 0.0\\\\0.0 & 0.0 & 0.331046025104603 & 0.364058577405858 & -0.140167364016736 & 0.0\\end{matrix}\\right]$"
      ],
      "text/plain": [
       "Matrix([\n",
       "[1.0, -0.2125,            -0.3125,              -0.25,              -0.125, 0.0],\n",
       "[0.0,     1.0, -0.238493723849372, -0.485355648535565, -0.0418410041841004, 0.0],\n",
       "[0.0,     0.0, -0.834142259414226,  0.264728033472803,   0.115062761506276, 0.0],\n",
       "[0.0,     0.0,  0.503096234309623, -0.628786610878661,  0.0251046025104603, 0.0],\n",
       "[0.0,     0.0,  0.331046025104603,  0.364058577405858,  -0.140167364016736, 0.0]])"
      ]
     },
     "execution_count": 14,
     "metadata": {},
     "output_type": "execute_result"
    }
   ],
   "source": [
    "B_ = reduce_row(B_,5,(2,2))\n",
    "Matrix(B_)"
   ]
  },
  {
   "cell_type": "code",
   "execution_count": 15,
   "metadata": {},
   "outputs": [
    {
     "name": "stdout",
     "output_type": "stream",
     "text": [
      "R3 = R3/-0.8341:\n"
     ]
    },
    {
     "data": {
      "text/latex": [
       "$\\displaystyle \\left[\\begin{matrix}1.0 & -0.2125 & -0.3125 & -0.25 & -0.125 & 0.0\\\\0.0 & 1.0 & -0.238493723849372 & -0.485355648535565 & -0.0418410041841004 & 0.0\\\\0.0 & 0.0 & 1.0 & -0.317365569823435 & -0.137941412520064 & 0.0\\\\0.0 & 0.0 & 0.503096234309623 & -0.628786610878661 & 0.0251046025104603 & 0.0\\\\0.0 & 0.0 & 0.331046025104603 & 0.364058577405858 & -0.140167364016736 & 0.0\\end{matrix}\\right]$"
      ],
      "text/plain": [
       "Matrix([\n",
       "[1.0, -0.2125,            -0.3125,              -0.25,              -0.125, 0.0],\n",
       "[0.0,     1.0, -0.238493723849372, -0.485355648535565, -0.0418410041841004, 0.0],\n",
       "[0.0,     0.0,                1.0, -0.317365569823435,  -0.137941412520064, 0.0],\n",
       "[0.0,     0.0,  0.503096234309623, -0.628786610878661,  0.0251046025104603, 0.0],\n",
       "[0.0,     0.0,  0.331046025104603,  0.364058577405858,  -0.140167364016736, 0.0]])"
      ]
     },
     "execution_count": 15,
     "metadata": {},
     "output_type": "execute_result"
    }
   ],
   "source": [
    "B_ = divide_index(B_,(3,3))\n",
    "Matrix(B_)"
   ]
  },
  {
   "cell_type": "code",
   "execution_count": 16,
   "metadata": {},
   "outputs": [
    {
     "name": "stdout",
     "output_type": "stream",
     "text": [
      "R4 = R4 - (0.5031*R3):\n"
     ]
    },
    {
     "data": {
      "text/latex": [
       "$\\displaystyle \\left[\\begin{matrix}1.0 & -0.2125 & -0.3125 & -0.25 & -0.125 & 0.0\\\\0.0 & 1.0 & -0.238493723849372 & -0.485355648535565 & -0.0418410041841004 & 0.0\\\\0.0 & 0.0 & 1.0 & -0.317365569823435 & -0.137941412520064 & 0.0\\\\0.0 & 0.0 & 0.0 & -0.469121187800963 & 0.0945024077046549 & 0.0\\\\0.0 & 0.0 & 0.331046025104603 & 0.364058577405858 & -0.140167364016736 & 0.0\\end{matrix}\\right]$"
      ],
      "text/plain": [
       "Matrix([\n",
       "[1.0, -0.2125,            -0.3125,              -0.25,              -0.125, 0.0],\n",
       "[0.0,     1.0, -0.238493723849372, -0.485355648535565, -0.0418410041841004, 0.0],\n",
       "[0.0,     0.0,                1.0, -0.317365569823435,  -0.137941412520064, 0.0],\n",
       "[0.0,     0.0,                0.0, -0.469121187800963,  0.0945024077046549, 0.0],\n",
       "[0.0,     0.0,  0.331046025104603,  0.364058577405858,  -0.140167364016736, 0.0]])"
      ]
     },
     "execution_count": 16,
     "metadata": {},
     "output_type": "execute_result"
    }
   ],
   "source": [
    "B_ = reduce_row(B_,4,(3,3))\n",
    "Matrix(B_)"
   ]
  },
  {
   "cell_type": "code",
   "execution_count": 17,
   "metadata": {},
   "outputs": [
    {
     "name": "stdout",
     "output_type": "stream",
     "text": [
      "R5 = R5 - (0.3310*R3):\n"
     ]
    },
    {
     "data": {
      "text/latex": [
       "$\\displaystyle \\left[\\begin{matrix}1.0 & -0.2125 & -0.3125 & -0.25 & -0.125 & 0.0\\\\0.0 & 1.0 & -0.238493723849372 & -0.485355648535565 & -0.0418410041841004 & 0.0\\\\0.0 & 0.0 & 1.0 & -0.317365569823435 & -0.137941412520064 & 0.0\\\\0.0 & 0.0 & 0.0 & -0.469121187800963 & 0.0945024077046549 & 0.0\\\\0.0 & 0.0 & 0.0 & 0.469121187800963 & -0.0945024077046549 & 0.0\\end{matrix}\\right]$"
      ],
      "text/plain": [
       "Matrix([\n",
       "[1.0, -0.2125,            -0.3125,              -0.25,              -0.125, 0.0],\n",
       "[0.0,     1.0, -0.238493723849372, -0.485355648535565, -0.0418410041841004, 0.0],\n",
       "[0.0,     0.0,                1.0, -0.317365569823435,  -0.137941412520064, 0.0],\n",
       "[0.0,     0.0,                0.0, -0.469121187800963,  0.0945024077046549, 0.0],\n",
       "[0.0,     0.0,                0.0,  0.469121187800963, -0.0945024077046549, 0.0]])"
      ]
     },
     "execution_count": 17,
     "metadata": {},
     "output_type": "execute_result"
    }
   ],
   "source": [
    "B_ = reduce_row(B_,5,(3,3))\n",
    "Matrix(B_)"
   ]
  },
  {
   "cell_type": "code",
   "execution_count": 18,
   "metadata": {},
   "outputs": [
    {
     "name": "stdout",
     "output_type": "stream",
     "text": [
      "R4 = R4/-0.4691:\n"
     ]
    },
    {
     "data": {
      "text/latex": [
       "$\\displaystyle \\left[\\begin{matrix}1.0 & -0.2125 & -0.3125 & -0.25 & -0.125 & 0.0\\\\0.0 & 1.0 & -0.238493723849372 & -0.485355648535565 & -0.0418410041841004 & 0.0\\\\0.0 & 0.0 & 1.0 & -0.317365569823435 & -0.137941412520064 & 0.0\\\\0.0 & 0.0 & 0.0 & 1.0 & -0.20144561823703 & 0.0\\\\0.0 & 0.0 & 0.0 & 0.469121187800963 & -0.0945024077046549 & 0.0\\end{matrix}\\right]$"
      ],
      "text/plain": [
       "Matrix([\n",
       "[1.0, -0.2125,            -0.3125,              -0.25,              -0.125, 0.0],\n",
       "[0.0,     1.0, -0.238493723849372, -0.485355648535565, -0.0418410041841004, 0.0],\n",
       "[0.0,     0.0,                1.0, -0.317365569823435,  -0.137941412520064, 0.0],\n",
       "[0.0,     0.0,                0.0,                1.0,   -0.20144561823703, 0.0],\n",
       "[0.0,     0.0,                0.0,  0.469121187800963, -0.0945024077046549, 0.0]])"
      ]
     },
     "execution_count": 18,
     "metadata": {},
     "output_type": "execute_result"
    }
   ],
   "source": [
    "B_ = divide_index(B_,(4,4))\n",
    "Matrix(B_)"
   ]
  },
  {
   "cell_type": "code",
   "execution_count": 19,
   "metadata": {},
   "outputs": [
    {
     "name": "stdout",
     "output_type": "stream",
     "text": [
      "R5 = R5 - (0.4691*R4):\n"
     ]
    },
    {
     "data": {
      "text/latex": [
       "$\\displaystyle \\left[\\begin{matrix}1.0 & -0.2125 & -0.3125 & -0.25 & -0.125 & 0.0\\\\0.0 & 1.0 & -0.238493723849372 & -0.485355648535565 & -0.0418410041841004 & 0.0\\\\0.0 & 0.0 & 1.0 & -0.317365569823435 & -0.137941412520064 & 0.0\\\\0.0 & 0.0 & 0.0 & 1.0 & -0.20144561823703 & 0.0\\\\0.0 & 0.0 & 0.0 & 0.0 & 0.0 & 0.0\\end{matrix}\\right]$"
      ],
      "text/plain": [
       "Matrix([\n",
       "[1.0, -0.2125,            -0.3125,              -0.25,              -0.125, 0.0],\n",
       "[0.0,     1.0, -0.238493723849372, -0.485355648535565, -0.0418410041841004, 0.0],\n",
       "[0.0,     0.0,                1.0, -0.317365569823435,  -0.137941412520064, 0.0],\n",
       "[0.0,     0.0,                0.0,                1.0,   -0.20144561823703, 0.0],\n",
       "[0.0,     0.0,                0.0,                0.0,                 0.0, 0.0]])"
      ]
     },
     "execution_count": 19,
     "metadata": {},
     "output_type": "execute_result"
    }
   ],
   "source": [
    "B_ = reduce_row(B_,5,(4,4))\n",
    "Matrix(B_)"
   ]
  },
  {
   "cell_type": "code",
   "execution_count": 20,
   "metadata": {},
   "outputs": [
    {
     "name": "stdout",
     "output_type": "stream",
     "text": [
      "R1 = R1 - (-0.2125*R2):\n"
     ]
    },
    {
     "data": {
      "text/latex": [
       "$\\displaystyle \\left[\\begin{matrix}1.0 & 0.0 & -0.363179916317992 & -0.353138075313808 & -0.133891213389121 & 0.0\\\\0.0 & 1.0 & -0.238493723849372 & -0.485355648535565 & -0.0418410041841004 & 0.0\\\\0.0 & 0.0 & 1.0 & -0.317365569823435 & -0.137941412520064 & 0.0\\\\0.0 & 0.0 & 0.0 & 1.0 & -0.20144561823703 & 0.0\\\\0.0 & 0.0 & 0.0 & 0.0 & 0.0 & 0.0\\end{matrix}\\right]$"
      ],
      "text/plain": [
       "Matrix([\n",
       "[1.0, 0.0, -0.363179916317992, -0.353138075313808,  -0.133891213389121, 0.0],\n",
       "[0.0, 1.0, -0.238493723849372, -0.485355648535565, -0.0418410041841004, 0.0],\n",
       "[0.0, 0.0,                1.0, -0.317365569823435,  -0.137941412520064, 0.0],\n",
       "[0.0, 0.0,                0.0,                1.0,   -0.20144561823703, 0.0],\n",
       "[0.0, 0.0,                0.0,                0.0,                 0.0, 0.0]])"
      ]
     },
     "execution_count": 20,
     "metadata": {},
     "output_type": "execute_result"
    }
   ],
   "source": [
    "B_ = reduce_row(B_,1,(2,2))\n",
    "Matrix(B_)"
   ]
  },
  {
   "cell_type": "code",
   "execution_count": 21,
   "metadata": {},
   "outputs": [
    {
     "name": "stdout",
     "output_type": "stream",
     "text": [
      "R1 = R1 - (-0.3632*R3):\n"
     ]
    },
    {
     "data": {
      "text/latex": [
       "$\\displaystyle \\left[\\begin{matrix}1.0 & 0.0 & 0.0 & -0.468398876404494 & -0.183988764044944 & 0.0\\\\0.0 & 1.0 & -0.238493723849372 & -0.485355648535565 & -0.0418410041841004 & 0.0\\\\0.0 & 0.0 & 1.0 & -0.317365569823435 & -0.137941412520064 & 0.0\\\\0.0 & 0.0 & 0.0 & 1.0 & -0.20144561823703 & 0.0\\\\0.0 & 0.0 & 0.0 & 0.0 & 0.0 & 0.0\\end{matrix}\\right]$"
      ],
      "text/plain": [
       "Matrix([\n",
       "[1.0, 0.0,                0.0, -0.468398876404494,  -0.183988764044944, 0.0],\n",
       "[0.0, 1.0, -0.238493723849372, -0.485355648535565, -0.0418410041841004, 0.0],\n",
       "[0.0, 0.0,                1.0, -0.317365569823435,  -0.137941412520064, 0.0],\n",
       "[0.0, 0.0,                0.0,                1.0,   -0.20144561823703, 0.0],\n",
       "[0.0, 0.0,                0.0,                0.0,                 0.0, 0.0]])"
      ]
     },
     "execution_count": 21,
     "metadata": {},
     "output_type": "execute_result"
    }
   ],
   "source": [
    "B_ = reduce_row(B_,1,(3,3))\n",
    "Matrix(B_)"
   ]
  },
  {
   "cell_type": "code",
   "execution_count": 22,
   "metadata": {},
   "outputs": [
    {
     "name": "stdout",
     "output_type": "stream",
     "text": [
      "R1 = R1 - (-0.4684*R4):\n"
     ]
    },
    {
     "data": {
      "text/latex": [
       "$\\displaystyle \\left[\\begin{matrix}1.0 & 0.0 & 0.0 & 0.0 & -0.278345665283777 & 0.0\\\\0.0 & 1.0 & -0.238493723849372 & -0.485355648535565 & -0.0418410041841004 & 0.0\\\\0.0 & 0.0 & 1.0 & -0.317365569823435 & -0.137941412520064 & 0.0\\\\0.0 & 0.0 & 0.0 & 1.0 & -0.20144561823703 & 0.0\\\\0.0 & 0.0 & 0.0 & 0.0 & 0.0 & 0.0\\end{matrix}\\right]$"
      ],
      "text/plain": [
       "Matrix([\n",
       "[1.0, 0.0,                0.0,                0.0,  -0.278345665283777, 0.0],\n",
       "[0.0, 1.0, -0.238493723849372, -0.485355648535565, -0.0418410041841004, 0.0],\n",
       "[0.0, 0.0,                1.0, -0.317365569823435,  -0.137941412520064, 0.0],\n",
       "[0.0, 0.0,                0.0,                1.0,   -0.20144561823703, 0.0],\n",
       "[0.0, 0.0,                0.0,                0.0,                 0.0, 0.0]])"
      ]
     },
     "execution_count": 22,
     "metadata": {},
     "output_type": "execute_result"
    }
   ],
   "source": [
    "B_ = reduce_row(B_,1,(4,4))\n",
    "Matrix(B_)"
   ]
  },
  {
   "cell_type": "code",
   "execution_count": 23,
   "metadata": {},
   "outputs": [
    {
     "name": "stdout",
     "output_type": "stream",
     "text": [
      "R2 = R2 - (-0.2385*R3):\n"
     ]
    },
    {
     "data": {
      "text/latex": [
       "$\\displaystyle \\left[\\begin{matrix}1.0 & 0.0 & 0.0 & 0.0 & -0.278345665283777 & 0.0\\\\0.0 & 1.0 & 0.0 & -0.561045345104334 & -0.074739165329053 & 0.0\\\\0.0 & 0.0 & 1.0 & -0.317365569823435 & -0.137941412520064 & 0.0\\\\0.0 & 0.0 & 0.0 & 1.0 & -0.20144561823703 & 0.0\\\\0.0 & 0.0 & 0.0 & 0.0 & 0.0 & 0.0\\end{matrix}\\right]$"
      ],
      "text/plain": [
       "Matrix([\n",
       "[1.0, 0.0, 0.0,                0.0, -0.278345665283777, 0.0],\n",
       "[0.0, 1.0, 0.0, -0.561045345104334, -0.074739165329053, 0.0],\n",
       "[0.0, 0.0, 1.0, -0.317365569823435, -0.137941412520064, 0.0],\n",
       "[0.0, 0.0, 0.0,                1.0,  -0.20144561823703, 0.0],\n",
       "[0.0, 0.0, 0.0,                0.0,                0.0, 0.0]])"
      ]
     },
     "execution_count": 23,
     "metadata": {},
     "output_type": "execute_result"
    }
   ],
   "source": [
    "B_ = reduce_row(B_,2,(3,3))\n",
    "Matrix(B_)"
   ]
  },
  {
   "cell_type": "code",
   "execution_count": 24,
   "metadata": {},
   "outputs": [
    {
     "name": "stdout",
     "output_type": "stream",
     "text": [
      "R2 = R2 - (-0.5610*R4):\n"
     ]
    },
    {
     "data": {
      "text/latex": [
       "$\\displaystyle \\left[\\begin{matrix}1.0 & 0.0 & 0.0 & 0.0 & -0.278345665283777 & 0.0\\\\0.0 & 1.0 & 0.0 & 0.0 & -0.187759291732603 & 0.0\\\\0.0 & 0.0 & 1.0 & -0.317365569823435 & -0.137941412520064 & 0.0\\\\0.0 & 0.0 & 0.0 & 1.0 & -0.20144561823703 & 0.0\\\\0.0 & 0.0 & 0.0 & 0.0 & 0.0 & 0.0\\end{matrix}\\right]$"
      ],
      "text/plain": [
       "Matrix([\n",
       "[1.0, 0.0, 0.0,                0.0, -0.278345665283777, 0.0],\n",
       "[0.0, 1.0, 0.0,                0.0, -0.187759291732603, 0.0],\n",
       "[0.0, 0.0, 1.0, -0.317365569823435, -0.137941412520064, 0.0],\n",
       "[0.0, 0.0, 0.0,                1.0,  -0.20144561823703, 0.0],\n",
       "[0.0, 0.0, 0.0,                0.0,                0.0, 0.0]])"
      ]
     },
     "execution_count": 24,
     "metadata": {},
     "output_type": "execute_result"
    }
   ],
   "source": [
    "B_ = reduce_row(B_,2,(4,4))\n",
    "Matrix(B_)"
   ]
  },
  {
   "cell_type": "code",
   "execution_count": 25,
   "metadata": {},
   "outputs": [
    {
     "name": "stdout",
     "output_type": "stream",
     "text": [
      "R3 = R3 - (-0.3174*R4):\n"
     ]
    },
    {
     "data": {
      "text/latex": [
       "$\\displaystyle \\left[\\begin{matrix}1.0 & 0.0 & 0.0 & 0.0 & -0.278345665283777 & 0.0\\\\0.0 & 1.0 & 0.0 & 0.0 & -0.187759291732603 & 0.0\\\\0.0 & 0.0 & 1.0 & 0.0 & -0.201873315940293 & 0.0\\\\0.0 & 0.0 & 0.0 & 1.0 & -0.20144561823703 & 0.0\\\\0.0 & 0.0 & 0.0 & 0.0 & 0.0 & 0.0\\end{matrix}\\right]$"
      ],
      "text/plain": [
       "Matrix([\n",
       "[1.0, 0.0, 0.0, 0.0, -0.278345665283777, 0.0],\n",
       "[0.0, 1.0, 0.0, 0.0, -0.187759291732603, 0.0],\n",
       "[0.0, 0.0, 1.0, 0.0, -0.201873315940293, 0.0],\n",
       "[0.0, 0.0, 0.0, 1.0,  -0.20144561823703, 0.0],\n",
       "[0.0, 0.0, 0.0, 0.0,                0.0, 0.0]])"
      ]
     },
     "execution_count": 25,
     "metadata": {},
     "output_type": "execute_result"
    }
   ],
   "source": [
    "B_ = reduce_row(B_,3,(4,4))\n",
    "Matrix(B_)"
   ]
  },
  {
   "cell_type": "code",
   "execution_count": 26,
   "metadata": {},
   "outputs": [
    {
     "name": "stdout",
     "output_type": "stream",
     "text": [
      "The augmented matrix [B|0], when reduced\n",
      "step by step (as shown above),\n",
      "to RREF form is:\n"
     ]
    },
    {
     "data": {
      "text/latex": [
       "$\\displaystyle \\left[\\begin{matrix}1.0 & 0.0 & 0.0 & 0.0 & -0.278345665283777 & 0.0\\\\0.0 & 1.0 & 0.0 & 0.0 & -0.187759291732603 & 0.0\\\\0.0 & 0.0 & 1.0 & 0.0 & -0.201873315940293 & 0.0\\\\0.0 & 0.0 & 0.0 & 1.0 & -0.20144561823703 & 0.0\\\\0.0 & 0.0 & 0.0 & 0.0 & 0.0 & 0.0\\end{matrix}\\right]$"
      ],
      "text/plain": [
       "Matrix([\n",
       "[1.0, 0.0, 0.0, 0.0, -0.278345665283777, 0.0],\n",
       "[0.0, 1.0, 0.0, 0.0, -0.187759291732603, 0.0],\n",
       "[0.0, 0.0, 1.0, 0.0, -0.201873315940293, 0.0],\n",
       "[0.0, 0.0, 0.0, 1.0,  -0.20144561823703, 0.0],\n",
       "[0.0, 0.0, 0.0, 0.0,                0.0, 0.0]])"
      ]
     },
     "execution_count": 26,
     "metadata": {},
     "output_type": "execute_result"
    }
   ],
   "source": [
    "print(\"The augmented matrix [B|0], when reduced\\n\\\n",
    "step by step (as shown above),\\nto RREF form is:\")\n",
    "Matrix(B_)"
   ]
  }
 ],
 "metadata": {
  "kernelspec": {
   "display_name": "Python 3.8.5 ('datascience')",
   "language": "python",
   "name": "python3"
  },
  "language_info": {
   "codemirror_mode": {
    "name": "ipython",
    "version": 3
   },
   "file_extension": ".py",
   "mimetype": "text/x-python",
   "name": "python",
   "nbconvert_exporter": "python",
   "pygments_lexer": "ipython3",
   "version": "3.8.5"
  },
  "vscode": {
   "interpreter": {
    "hash": "d203a7fbe37afbb990fedfc21c321928443618f3d7b991e0237ff71906aa031f"
   }
  }
 },
 "nbformat": 4,
 "nbformat_minor": 4
}
